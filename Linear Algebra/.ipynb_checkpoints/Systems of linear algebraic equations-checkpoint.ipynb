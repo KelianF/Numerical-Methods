{
 "cells": [
  {
   "cell_type": "markdown",
   "metadata": {},
   "source": [
    "# Methods of solution"
   ]
  },
  {
   "cell_type": "markdown",
   "metadata": {},
   "source": [
    "There are two types of methods for solving systems of linear, algebrais equations: direct and iterative methods."
   ]
  },
  {
   "cell_type": "code",
   "execution_count": 5,
   "metadata": {},
   "outputs": [],
   "source": [
    "## Imports\n",
    "import numpy as np"
   ]
  },
  {
   "cell_type": "markdown",
   "metadata": {},
   "source": [
    "## Overview of Direct Methods"
   ]
  },
  {
   "cell_type": "markdown",
   "metadata": {},
   "source": [
    "| Method | Initial Forme |  Final Form  |\n",
    "|------|------| ----- |\n",
    "| Gauss Elimination  | **AX = b** |  **Ux = c** |\n",
    "| LU Decomposition | **Ax = b** | **LUx = b** |\n",
    "| Gauss-Jordan Elimination | **Ax = b** | **Ix = c** |\n",
    "\n",
    "\n",
    "**U** represents an upper triangular matrix, **L** is a lower triangular matrix and **I** is the identity matrix."
   ]
  },
  {
   "cell_type": "markdown",
   "metadata": {},
   "source": [
    "  "
   ]
  },
  {
   "cell_type": "markdown",
   "metadata": {},
   "source": [
    "## Gauss Elimination Method"
   ]
  },
  {
   "cell_type": "code",
   "execution_count": 6,
   "metadata": {},
   "outputs": [],
   "source": [
    "## module gaussElimin\n",
    "''' x = gaussElimin(a,b).\n",
    "Solves [a]{b} = {x} by Gauss elimination.\n",
    "'''\n",
    "\n",
    "def gaussElimin(a,b):\n",
    "    n = len(b)\n",
    "    # Elimination Phase\n",
    "    for k in range(0,n-1):\n",
    "        for i in range(k+1,n):\n",
    "            if a[i,k] != 0.0:\n",
    "                lam = a [i,k]/a[k,k]\n",
    "                a[i,k+1:n] = a[i,k+1:n] - lam*a[k,k+1:n]\n",
    "                b[i] = b[i] - lam*b[k]\n",
    "    # Back substitution\n",
    "    for k in range(n-1,-1,-1):\n",
    "        b[k] = (b[k] - np.dot(a[k,k+1:n],b[k+1:n]))/a[k,k]\n",
    "    return b"
   ]
  },
  {
   "cell_type": "code",
   "execution_count": 21,
   "metadata": {},
   "outputs": [],
   "source": [
    "A = np.array(((6, -4, 1),(-4, 6, -4), (1, -4, 6)))\n",
    "B = np.array(((-14, 22),(36, -18), (6, 7)))"
   ]
  },
  {
   "cell_type": "code",
   "execution_count": 22,
   "metadata": {},
   "outputs": [
    {
     "data": {
      "text/plain": [
       "array([[11,  3],\n",
       "       [25, -1],\n",
       "       [17,  0]])"
      ]
     },
     "execution_count": 22,
     "metadata": {},
     "output_type": "execute_result"
    }
   ],
   "source": [
    "gaussElimin(A, B)"
   ]
  },
  {
   "cell_type": "markdown",
   "metadata": {},
   "source": [
    "## LU Decomposition Methods"
   ]
  },
  {
   "cell_type": "markdown",
   "metadata": {},
   "source": [
    "\n",
    "\n",
    "| Name | Constraints           |\n",
    "| ----- | ------ |\n",
    "| Doolittle's Decomposition | $L_{ii}$=1, i=1,2,..,n  |\n",
    "| Crout's Decomposition | $U_{ii}$=1, i=1,2,..,n |\n",
    "| Choleski's Decomposition | $L=U^{T}$ |"
   ]
  },
  {
   "cell_type": "code",
   "execution_count": 1,
   "metadata": {},
   "outputs": [],
   "source": [
    "def LUdecomp(a):\n",
    "    n = len(a)\n",
    "    for k in range(0,n-1):\n",
    "        for i in range(k+1,n):\n",
    "            if a[i,k] != 0.0:\n",
    "                lam = a [i,k]/a[k,k]\n",
    "                a[i,k+1:n] = a[i,k+1:n] - lam*a[k,k+1:n]\n",
    "                a[i,k] = lam\n",
    "    return a\n",
    "\n",
    "def LUsolve(a,b):\n",
    "    n = len(a)\n",
    "    for k in range(1,n):\n",
    "        b[k] = b[k] - np.dot(a[k,0:k],b[0:k])\n",
    "    b[n-1] = b[n-1]/a[n-1,n-1]\n",
    "    for k in range(n-2,-1,-1):\n",
    "        b[k] = (b[k] - np.dot(a[k,k+1:n],b[k+1:n]))/a[k,k]\n",
    "    return b"
   ]
  },
  {
   "cell_type": "code",
   "execution_count": 2,
   "metadata": {},
   "outputs": [
    {
     "ename": "SyntaxError",
     "evalue": "invalid character in identifier (<ipython-input-2-0bee13f917bd>, line 7)",
     "output_type": "error",
     "traceback": [
      "\u001b[1;36m  File \u001b[1;32m\"<ipython-input-2-0bee13f917bd>\"\u001b[1;36m, line \u001b[1;32m7\u001b[0m\n\u001b[1;33m    error.err(’Matrix is not positive definite’)\u001b[0m\n\u001b[1;37m                    ^\u001b[0m\n\u001b[1;31mSyntaxError\u001b[0m\u001b[1;31m:\u001b[0m invalid character in identifier\n"
     ]
    }
   ],
   "source": [
    "def choleski(a):\n",
    "    n = len(a)\n",
    "    for k in range(n):\n",
    "        try:\n",
    "            a[k,k] = math.sqrt(a[k,k] - np.dot(a[k,0:k],a[k,0:k]))\n",
    "        except ValueError:\n",
    "            error.err(’Matrix is not positive definite’)\n",
    "        for i in range(k+1,n):\n",
    "            a[i,k] = (a[i,k] - np.dot(a[i,0:k],a[k,0:k]))/a[k,k]\n",
    "    for k in range(1,n): a[0:k,k] = 0.0\n",
    "    return a\n",
    "\n",
    "def choleskiSol(L,b):\n",
    "    n = len(b)\n",
    "    # Solution of [L]{y} = {b}\n",
    "    for k in range(n):\n",
    "        b[k] = (b[k] - np.dot(L[k,0:k],b[0:k]))/L[k,k]\n",
    "    # Solution of [L_transpose]{x} = {y}\n",
    "    for k in range(n-1,-1,-1):\n",
    "        b[k] = (b[k] - np.dot(L[k+1:n,k],b[k+1:n]))/L[k,k]\n",
    "    return b"
   ]
  },
  {
   "cell_type": "code",
   "execution_count": null,
   "metadata": {},
   "outputs": [],
   "source": []
  }
 ],
 "metadata": {
  "kernelspec": {
   "display_name": "Python 3",
   "language": "python",
   "name": "python3"
  },
  "language_info": {
   "codemirror_mode": {
    "name": "ipython",
    "version": 3
   },
   "file_extension": ".py",
   "mimetype": "text/x-python",
   "name": "python",
   "nbconvert_exporter": "python",
   "pygments_lexer": "ipython3",
   "version": "3.7.6"
  }
 },
 "nbformat": 4,
 "nbformat_minor": 4
}
